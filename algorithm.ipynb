{
 "cells": [
  {
   "cell_type": "code",
   "execution_count": 10,
   "metadata": {},
   "outputs": [],
   "source": [
    "from twelvedata import TDClient\n",
    "import time\n",
    "\n",
    "\n",
    "api_key = \"ced60696328f4b6a8dbdf54033a32bb5\"\n",
    "td = TDClient(api_key)\n",
    "\n",
    "# Define symbols list\n",
    "symbols = ['AAPL', 'GOOGL', 'MSFT', 'AMZN', 'TSLA', 'FB', 'NVDA', 'NFLX', 'PYPL', 'INTC']\n",
    "\n",
    "# Define SMA window sizes\n",
    "sma_window_sizes = [5, 8, 13, 20]\n",
    "\n",
    "def get_sma(symbol, window_size):\n",
    "    data = td.time_series(symbol=symbol, interval='1min', outputsize=window_size)\n",
    "    sma = sum(data['close']) / window_size\n",
    "    return sma\n",
    "\n",
    "def check_rules(symbol):\n",
    "    last_sma_values = []\n",
    "    previous_sma_values = []\n",
    "    for window_size in sma_window_sizes:\n",
    "        last_sma_values.append(get_sma(symbol, window_size))\n",
    "        previous_sma_values.append(get_sma(symbol, window_size + 1))\n",
    "    \n",
    "    last_sma5, last_sma8, last_sma13, last_sma20 = last_sma_values\n",
    "    prev_sma5, prev_sma8, prev_sma13, prev_sma20 = previous_sma_values\n",
    "\n",
    "    if (last_sma5 > last_sma8) and (prev_sma5 < prev_sma8) and (last_sma5 > last_sma20):\n",
    "        return 'Buy'\n",
    "    elif (last_sma5 < last_sma8) and (prev_sma5 > prev_sma8) and (last_sma8 > last_sma13):\n",
    "        return 'Sell'\n",
    "    else:\n",
    "        return 'None'\n",
    "\n",
    "while True:\n",
    "    current_time = time.localtime()\n",
    "    if current_time.tm_hour >= 9 and current_time.tm_hour < 16:\n",
    "        for symbol in symbols:\n",
    "            action = check_rules(symbol)\n",
    "            if action == 'Buy':\n",
    "                print(f'Buy {symbol} at {time.strftime(\"%Y-%m-%d %H:%M:%S\", current_time)} for {get_sma(symbol, 1)}')\n",
    "            elif action == 'Sell':\n",
    "                print(f'Sell {symbol} at {time.strftime(\"%Y-%m-%d %H:%M:%S\", current_time)} for {get_sma(symbol, 1)}')\n",
    "            else:\n",
    "                print(f'Do nothing for {symbol}')\n",
    "    else:\n",
    "        print('Market closed. Waiting for it to open...')\n",
    "        time.sleep(60)  # Check every minute if market has opened"
   ]
  }
 ],
 "metadata": {
  "kernelspec": {
   "display_name": "Python 3",
   "language": "python",
   "name": "python3"
  },
  "language_info": {
   "codemirror_mode": {
    "name": "ipython",
    "version": 3
   },
   "file_extension": ".py",
   "mimetype": "text/x-python",
   "name": "python",
   "nbconvert_exporter": "python",
   "pygments_lexer": "ipython3",
   "version": "3.10.11"
  }
 },
 "nbformat": 4,
 "nbformat_minor": 2
}

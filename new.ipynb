{
 "cells": [
  {
   "cell_type": "code",
   "execution_count": 5,
   "metadata": {},
   "outputs": [],
   "source": [
    "from twelvedata import TDClient\n",
    "td = TDClient(apikey=\"ced60696328f4b6a8dbdf54033a32bb5\")"
   ]
  },
  {
   "cell_type": "code",
   "execution_count": 6,
   "metadata": {},
   "outputs": [
    {
     "ename": "BadRequestError",
     "evalue": "Invalid **interval** provided: 10min. Supported intervals: 1min, 5min, 15min, 30min, 45min, 1h, 2h, 4h, 8h, 1day, 1week, 1month",
     "output_type": "error",
     "traceback": [
      "\u001b[0;31m---------------------------------------------------------------------------\u001b[0m",
      "\u001b[0;31mBadRequestError\u001b[0m                           Traceback (most recent call last)",
      "\u001b[1;32m/Users/parney2004/Desktop/stocks/new.ipynb Cell 2\u001b[0m line \u001b[0;36m1\n\u001b[1;32m      <a href='vscode-notebook-cell:/Users/parney2004/Desktop/stocks/new.ipynb#W4sZmlsZQ%3D%3D?line=1'>2</a>\u001b[0m inter \u001b[39m=\u001b[39m \u001b[39minput\u001b[39m(\u001b[39m'\u001b[39m\u001b[39mEnter Interval\u001b[39m\u001b[39m'\u001b[39m) \u001b[39m+\u001b[39m \u001b[39m'\u001b[39m\u001b[39mmin\u001b[39m\u001b[39m'\u001b[39m\n\u001b[1;32m      <a href='vscode-notebook-cell:/Users/parney2004/Desktop/stocks/new.ipynb#W4sZmlsZQ%3D%3D?line=3'>4</a>\u001b[0m ts \u001b[39m=\u001b[39m td\u001b[39m.\u001b[39mtime_series(\n\u001b[1;32m      <a href='vscode-notebook-cell:/Users/parney2004/Desktop/stocks/new.ipynb#W4sZmlsZQ%3D%3D?line=4'>5</a>\u001b[0m     symbol\u001b[39m=\u001b[39msymb,\n\u001b[1;32m      <a href='vscode-notebook-cell:/Users/parney2004/Desktop/stocks/new.ipynb#W4sZmlsZQ%3D%3D?line=5'>6</a>\u001b[0m     interval\u001b[39m=\u001b[39minter,\n\u001b[1;32m      <a href='vscode-notebook-cell:/Users/parney2004/Desktop/stocks/new.ipynb#W4sZmlsZQ%3D%3D?line=6'>7</a>\u001b[0m     outputsize\u001b[39m=\u001b[39m\u001b[39m10\u001b[39m,\n\u001b[1;32m      <a href='vscode-notebook-cell:/Users/parney2004/Desktop/stocks/new.ipynb#W4sZmlsZQ%3D%3D?line=7'>8</a>\u001b[0m     timezone\u001b[39m=\u001b[39m\u001b[39m\"\u001b[39m\u001b[39mAmerica/New_York\u001b[39m\u001b[39m\"\u001b[39m,\n\u001b[1;32m      <a href='vscode-notebook-cell:/Users/parney2004/Desktop/stocks/new.ipynb#W4sZmlsZQ%3D%3D?line=8'>9</a>\u001b[0m )\n\u001b[0;32m---> <a href='vscode-notebook-cell:/Users/parney2004/Desktop/stocks/new.ipynb#W4sZmlsZQ%3D%3D?line=10'>11</a>\u001b[0m ts\u001b[39m.\u001b[39;49mas_pandas()\n",
      "File \u001b[0;32m/Library/Frameworks/Python.framework/Versions/3.10/lib/python3.10/site-packages/twelvedata/time_series.py:114\u001b[0m, in \u001b[0;36mTimeSeries.as_pandas\u001b[0;34m(self, **kwargs)\u001b[0m\n\u001b[1;32m    111\u001b[0m postfixes \u001b[39m=\u001b[39m \u001b[39mself\u001b[39m\u001b[39m.\u001b[39m_generate_postfixes()\n\u001b[1;32m    113\u001b[0m \u001b[39mif\u001b[39;00m \u001b[39mself\u001b[39m\u001b[39m.\u001b[39mprice_endpoint_enabled:\n\u001b[0;32m--> 114\u001b[0m     df \u001b[39m=\u001b[39m \u001b[39mself\u001b[39;49m\u001b[39m.\u001b[39;49mprice_endpoint\u001b[39m.\u001b[39;49mas_pandas()\n\u001b[1;32m    115\u001b[0m \u001b[39melse\u001b[39;00m:\n\u001b[1;32m    116\u001b[0m     df \u001b[39m=\u001b[39m \u001b[39mNone\u001b[39;00m\n",
      "File \u001b[0;32m/Library/Frameworks/Python.framework/Versions/3.10/lib/python3.10/site-packages/twelvedata/mixins.py:44\u001b[0m, in \u001b[0;36mAsPandasMixin.as_pandas\u001b[0;34m(self, **kwargs)\u001b[0m\n\u001b[1;32m     40\u001b[0m \u001b[39mimport\u001b[39;00m \u001b[39mpandas\u001b[39;00m \u001b[39mas\u001b[39;00m \u001b[39mpd\u001b[39;00m\n\u001b[1;32m     42\u001b[0m \u001b[39massert\u001b[39;00m \u001b[39mhasattr\u001b[39m(\u001b[39mself\u001b[39m, \u001b[39m\"\u001b[39m\u001b[39mas_json\u001b[39m\u001b[39m\"\u001b[39m)\n\u001b[0;32m---> 44\u001b[0m data \u001b[39m=\u001b[39m \u001b[39mself\u001b[39;49m\u001b[39m.\u001b[39;49mas_json()\n\u001b[1;32m     45\u001b[0m \u001b[39mif\u001b[39;00m \u001b[39mhasattr\u001b[39m(\u001b[39mself\u001b[39m, \u001b[39m\"\u001b[39m\u001b[39mis_batch\u001b[39m\u001b[39m\"\u001b[39m) \u001b[39mand\u001b[39;00m \u001b[39mself\u001b[39m\u001b[39m.\u001b[39mis_batch:\n\u001b[1;32m     46\u001b[0m     df \u001b[39m=\u001b[39m convert_collection_to_pandas_multi_index(data)\n",
      "File \u001b[0;32m/Library/Frameworks/Python.framework/Versions/3.10/lib/python3.10/site-packages/twelvedata/mixins.py:12\u001b[0m, in \u001b[0;36mAsJsonMixin.as_json\u001b[0;34m(self)\u001b[0m\n\u001b[1;32m     11\u001b[0m \u001b[39mdef\u001b[39;00m \u001b[39mas_json\u001b[39m(\u001b[39mself\u001b[39m):\n\u001b[0;32m---> 12\u001b[0m     resp \u001b[39m=\u001b[39m \u001b[39mself\u001b[39;49m\u001b[39m.\u001b[39;49mexecute(\u001b[39mformat\u001b[39;49m\u001b[39m=\u001b[39;49m\u001b[39m\"\u001b[39;49m\u001b[39mJSON\u001b[39;49m\u001b[39m\"\u001b[39;49m)\n\u001b[1;32m     13\u001b[0m     json \u001b[39m=\u001b[39m resp\u001b[39m.\u001b[39mjson()\n\u001b[1;32m     14\u001b[0m     \u001b[39mif\u001b[39;00m \u001b[39mhasattr\u001b[39m(\u001b[39mself\u001b[39m, \u001b[39m'\u001b[39m\u001b[39mis_batch\u001b[39m\u001b[39m'\u001b[39m) \u001b[39mand\u001b[39;00m \u001b[39mself\u001b[39m\u001b[39m.\u001b[39mis_batch:\n",
      "File \u001b[0;32m/Library/Frameworks/Python.framework/Versions/3.10/lib/python3.10/site-packages/twelvedata/endpoints.py:299\u001b[0m, in \u001b[0;36mTimeSeriesEndpoint.execute\u001b[0;34m(self, format, debug)\u001b[0m\n\u001b[1;32m    297\u001b[0m \u001b[39mif\u001b[39;00m debug:\n\u001b[1;32m    298\u001b[0m     \u001b[39mreturn\u001b[39;00m build_url(\u001b[39mself\u001b[39m\u001b[39m.\u001b[39mctx\u001b[39m.\u001b[39mbase_url, endpoint, params)\n\u001b[0;32m--> 299\u001b[0m \u001b[39mreturn\u001b[39;00m \u001b[39mself\u001b[39;49m\u001b[39m.\u001b[39;49mctx\u001b[39m.\u001b[39;49mhttp_client\u001b[39m.\u001b[39;49mget(endpoint, params\u001b[39m=\u001b[39;49mparams)\n",
      "File \u001b[0;32m/Library/Frameworks/Python.framework/Versions/3.10/lib/python3.10/site-packages/twelvedata/http_client.py:50\u001b[0m, in \u001b[0;36mDefaultHttpClient.get\u001b[0;34m(self, relative_url, *args, **kwargs)\u001b[0m\n\u001b[1;32m     47\u001b[0m \u001b[39mexcept\u001b[39;00m \u001b[39mValueError\u001b[39;00m:\n\u001b[1;32m     48\u001b[0m     message \u001b[39m=\u001b[39m resp\u001b[39m.\u001b[39mtext\n\u001b[0;32m---> 50\u001b[0m \u001b[39mself\u001b[39;49m\u001b[39m.\u001b[39;49m_raise_error(error_code, message)\n",
      "File \u001b[0;32m/Library/Frameworks/Python.framework/Versions/3.10/lib/python3.10/site-packages/twelvedata/http_client.py:58\u001b[0m, in \u001b[0;36mDefaultHttpClient._raise_error\u001b[0;34m(error_code, message)\u001b[0m\n\u001b[1;32m     55\u001b[0m     \u001b[39mraise\u001b[39;00m InvalidApiKeyError(message)\n\u001b[1;32m     57\u001b[0m \u001b[39mif\u001b[39;00m error_code \u001b[39m==\u001b[39m \u001b[39m400\u001b[39m:\n\u001b[0;32m---> 58\u001b[0m     \u001b[39mraise\u001b[39;00m BadRequestError(message)\n\u001b[1;32m     60\u001b[0m \u001b[39mif\u001b[39;00m error_code \u001b[39m>\u001b[39m\u001b[39m=\u001b[39m \u001b[39m500\u001b[39m:\n\u001b[1;32m     61\u001b[0m     \u001b[39mraise\u001b[39;00m InternalServerError(message)\n",
      "\u001b[0;31mBadRequestError\u001b[0m: Invalid **interval** provided: 10min. Supported intervals: 1min, 5min, 15min, 30min, 45min, 1h, 2h, 4h, 8h, 1day, 1week, 1month"
     ]
    }
   ],
   "source": [
    "symb = input('Enter Stock Symbol')\n",
    "inter = input('Enter Interval (1min, 5min, 15min, 30min, 1hour, 1day, 1week, 1month)')\n",
    "              \n",
    "              \n",
    "\n",
    "ts = td.time_series(\n",
    "    symbol=symb,\n",
    "    interval=inter,\n",
    "    outputsize=10,\n",
    "    timezone=\"America/New_York\",\n",
    ")\n",
    "\n",
    "ts.as_pandas()"
   ]
  }
 ],
 "metadata": {
  "kernelspec": {
   "display_name": "base",
   "language": "python",
   "name": "python3"
  },
  "language_info": {
   "codemirror_mode": {
    "name": "ipython",
    "version": 3
   },
   "file_extension": ".py",
   "mimetype": "text/x-python",
   "name": "python",
   "nbconvert_exporter": "python",
   "pygments_lexer": "ipython3",
   "version": "3.10.11"
  }
 },
 "nbformat": 4,
 "nbformat_minor": 2
}

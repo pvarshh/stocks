{
 "cells": [
  {
   "cell_type": "code",
   "execution_count": 1,
   "metadata": {},
   "outputs": [
    {
     "ename": "ModuleNotFoundError",
     "evalue": "No module named 'twelvedata'",
     "output_type": "error",
     "traceback": [
      "\u001b[0;31m---------------------------------------------------------------------------\u001b[0m",
      "\u001b[0;31mModuleNotFoundError\u001b[0m                       Traceback (most recent call last)",
      "\u001b[1;32m/Users/parney2004/Desktop/stocks/new.ipynb Cell 1\u001b[0m line \u001b[0;36m1\n\u001b[0;32m----> <a href='vscode-notebook-cell:/Users/parney2004/Desktop/stocks/new.ipynb#W0sZmlsZQ%3D%3D?line=0'>1</a>\u001b[0m \u001b[39mfrom\u001b[39;00m \u001b[39mtwelvedata\u001b[39;00m \u001b[39mimport\u001b[39;00m TDClient\n\u001b[1;32m      <a href='vscode-notebook-cell:/Users/parney2004/Desktop/stocks/new.ipynb#W0sZmlsZQ%3D%3D?line=2'>3</a>\u001b[0m \u001b[39m# Initialize client - apikey parameter is requiered\u001b[39;00m\n\u001b[1;32m      <a href='vscode-notebook-cell:/Users/parney2004/Desktop/stocks/new.ipynb#W0sZmlsZQ%3D%3D?line=3'>4</a>\u001b[0m td \u001b[39m=\u001b[39m TDClient(apikey\u001b[39m=\u001b[39m\u001b[39m\"\u001b[39m\u001b[39mYOUR_API_KEY_HERE\u001b[39m\u001b[39m\"\u001b[39m)\n",
      "\u001b[0;31mModuleNotFoundError\u001b[0m: No module named 'twelvedata'"
     ]
    }
   ],
   "source": [
    "from twelvedata import TDClient\n",
    "\n",
    "# Initialize client - apikey parameter is requiered\n",
    "td = TDClient(apikey=\"YOUR_API_KEY_HERE\")\n",
    "\n",
    "# Construct the necessary time series\n",
    "ts = td.time_series(\n",
    "    symbol=\"AAPL\",\n",
    "    interval=\"1min\",\n",
    "    outputsize=10,\n",
    "    timezone=\"America/New_York\",\n",
    ")\n",
    "\n",
    "# Returns pandas.DataFrame\n",
    "ts.as_pandas()"
   ]
  }
 ],
 "metadata": {
  "kernelspec": {
   "display_name": "base",
   "language": "python",
   "name": "python3"
  },
  "language_info": {
   "codemirror_mode": {
    "name": "ipython",
    "version": 3
   },
   "file_extension": ".py",
   "mimetype": "text/x-python",
   "name": "python",
   "nbconvert_exporter": "python",
   "pygments_lexer": "ipython3",
   "version": "3.11.3"
  }
 },
 "nbformat": 4,
 "nbformat_minor": 2
}
